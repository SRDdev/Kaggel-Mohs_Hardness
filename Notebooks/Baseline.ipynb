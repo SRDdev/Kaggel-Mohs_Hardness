{
 "cells": [
  {
   "cell_type": "markdown",
   "id": "2ae5dc00",
   "metadata": {},
   "source": [
    "# Regression on Mohs Hardness "
   ]
  },
  {
   "cell_type": "code",
   "execution_count": 1,
   "id": "c12217ab",
   "metadata": {},
   "outputs": [],
   "source": [
    "import numpy as np\n",
    "import pandas as pd\n",
    "import torch\n",
    "import torch.nn as nn\n",
    "import torch.optim as optim\n",
    "from torch.utils.data import DataLoader, TensorDataset\n",
    "from sklearn.metrics import mean_squared_error, r2_score\n",
    "from sklearn.model_selection import train_test_split\n",
    "from sklearn.preprocessing import MinMaxScaler,StandardScaler"
   ]
  },
  {
   "cell_type": "markdown",
   "id": "0d0fa4b4",
   "metadata": {},
   "source": [
    "### Get Training Dataset"
   ]
  },
  {
   "cell_type": "code",
   "execution_count": 2,
   "id": "b10a1cfa",
   "metadata": {},
   "outputs": [
    {
     "data": {
      "text/html": [
       "<div>\n",
       "<style scoped>\n",
       "    .dataframe tbody tr th:only-of-type {\n",
       "        vertical-align: middle;\n",
       "    }\n",
       "\n",
       "    .dataframe tbody tr th {\n",
       "        vertical-align: top;\n",
       "    }\n",
       "\n",
       "    .dataframe thead th {\n",
       "        text-align: right;\n",
       "    }\n",
       "</style>\n",
       "<table border=\"1\" class=\"dataframe\">\n",
       "  <thead>\n",
       "    <tr style=\"text-align: right;\">\n",
       "      <th></th>\n",
       "      <th>id</th>\n",
       "      <th>allelectrons_Average</th>\n",
       "      <th>density_Average</th>\n",
       "      <th>val_e_Average</th>\n",
       "      <th>atomicweight_Average</th>\n",
       "      <th>ionenergy_Average</th>\n",
       "      <th>el_neg_chi_Average</th>\n",
       "      <th>Hardness</th>\n",
       "    </tr>\n",
       "  </thead>\n",
       "  <tbody>\n",
       "    <tr>\n",
       "      <th>0</th>\n",
       "      <td>0</td>\n",
       "      <td>10.0</td>\n",
       "      <td>0.91457</td>\n",
       "      <td>4.8</td>\n",
       "      <td>20.612526</td>\n",
       "      <td>11.08810</td>\n",
       "      <td>2.766</td>\n",
       "      <td>6.0</td>\n",
       "    </tr>\n",
       "    <tr>\n",
       "      <th>1</th>\n",
       "      <td>1</td>\n",
       "      <td>10.0</td>\n",
       "      <td>0.71760</td>\n",
       "      <td>4.8</td>\n",
       "      <td>20.298893</td>\n",
       "      <td>12.04083</td>\n",
       "      <td>2.755</td>\n",
       "      <td>6.5</td>\n",
       "    </tr>\n",
       "    <tr>\n",
       "      <th>2</th>\n",
       "      <td>2</td>\n",
       "      <td>15.6</td>\n",
       "      <td>1.50633</td>\n",
       "      <td>5.6</td>\n",
       "      <td>33.739258</td>\n",
       "      <td>12.08630</td>\n",
       "      <td>2.828</td>\n",
       "      <td>2.5</td>\n",
       "    </tr>\n",
       "    <tr>\n",
       "      <th>3</th>\n",
       "      <td>3</td>\n",
       "      <td>10.0</td>\n",
       "      <td>0.78937</td>\n",
       "      <td>4.8</td>\n",
       "      <td>20.213349</td>\n",
       "      <td>10.94850</td>\n",
       "      <td>2.648</td>\n",
       "      <td>6.0</td>\n",
       "    </tr>\n",
       "    <tr>\n",
       "      <th>4</th>\n",
       "      <td>4</td>\n",
       "      <td>11.6</td>\n",
       "      <td>1.86481</td>\n",
       "      <td>4.8</td>\n",
       "      <td>24.988133</td>\n",
       "      <td>11.82448</td>\n",
       "      <td>2.766</td>\n",
       "      <td>6.0</td>\n",
       "    </tr>\n",
       "  </tbody>\n",
       "</table>\n",
       "</div>"
      ],
      "text/plain": [
       "   id  allelectrons_Average  density_Average  val_e_Average  \\\n",
       "0   0                  10.0          0.91457            4.8   \n",
       "1   1                  10.0          0.71760            4.8   \n",
       "2   2                  15.6          1.50633            5.6   \n",
       "3   3                  10.0          0.78937            4.8   \n",
       "4   4                  11.6          1.86481            4.8   \n",
       "\n",
       "   atomicweight_Average  ionenergy_Average  el_neg_chi_Average  Hardness  \n",
       "0             20.612526           11.08810               2.766       6.0  \n",
       "1             20.298893           12.04083               2.755       6.5  \n",
       "2             33.739258           12.08630               2.828       2.5  \n",
       "3             20.213349           10.94850               2.648       6.0  \n",
       "4             24.988133           11.82448               2.766       6.0  "
      ]
     },
     "execution_count": 2,
     "metadata": {},
     "output_type": "execute_result"
    }
   ],
   "source": [
    "# Get data\n",
    "df = pd.read_csv('data/df_selected.csv')\n",
    "df.head()"
   ]
  },
  {
   "cell_type": "markdown",
   "id": "283ef358",
   "metadata": {},
   "source": [
    "Inputs & Outputs to the model"
   ]
  },
  {
   "cell_type": "code",
   "execution_count": 3,
   "id": "c9b98506",
   "metadata": {},
   "outputs": [],
   "source": [
    "X = df[['allelectrons_Average', 'density_Average', 'val_e_Average', \n",
    "        'atomicweight_Average', 'ionenergy_Average', 'el_neg_chi_Average']]\n",
    "\n",
    "Y = df[['Hardness']].values.reshape(-1, 1)"
   ]
  },
  {
   "cell_type": "code",
   "execution_count": 4,
   "id": "2d9d79b1",
   "metadata": {},
   "outputs": [],
   "source": [
    "X_train, X_test, y_train, y_test = train_test_split(X, Y, test_size=0.2, random_state=42)"
   ]
  },
  {
   "cell_type": "code",
   "execution_count": 5,
   "id": "d260982c",
   "metadata": {},
   "outputs": [],
   "source": [
    "scaler_X = MinMaxScaler()\n",
    "X_train_scaled = scaler_X.fit_transform(X_train)\n",
    "X_test_scaled = scaler_X.transform(X_test)"
   ]
  },
  {
   "cell_type": "markdown",
   "id": "608bfcdb",
   "metadata": {},
   "source": [
    "### Standardize the features"
   ]
  },
  {
   "cell_type": "code",
   "execution_count": 6,
   "id": "df4042bf",
   "metadata": {},
   "outputs": [],
   "source": [
    "scaler_y = MinMaxScaler()\n",
    "y_train_scaled = scaler_y.fit_transform(y_train)\n",
    "y_test_scaled = scaler_y.transform(y_test)"
   ]
  },
  {
   "cell_type": "markdown",
   "id": "8828daaa",
   "metadata": {},
   "source": [
    "Convert data to PyTorch tensors"
   ]
  },
  {
   "cell_type": "code",
   "execution_count": 7,
   "id": "e1f70e92",
   "metadata": {},
   "outputs": [],
   "source": [
    "X_train_tensor = torch.tensor(X_train_scaled, dtype=torch.float32)\n",
    "y_train_tensor = torch.tensor(y_train_scaled, dtype=torch.float32)\n",
    "\n",
    "X_test_tensor = torch.tensor(X_test_scaled, dtype=torch.float32)\n",
    "y_test_tensor = torch.tensor(y_test_scaled, dtype=torch.float32)"
   ]
  },
  {
   "cell_type": "markdown",
   "id": "38a19293",
   "metadata": {},
   "source": [
    "### Define the Models"
   ]
  },
  {
   "cell_type": "code",
   "execution_count": 8,
   "id": "103145d1",
   "metadata": {},
   "outputs": [],
   "source": [
    "#------------------DeepRegression Model--------------------#\n",
    "class DeepRegressionModel(nn.Module):\n",
    "    def __init__(self, input_size, hidden_size1, hidden_size2,drop):\n",
    "        super(DeepRegressionModel, self).__init__()\n",
    "        self.fc1 = nn.Linear(input_size, hidden_size1)\n",
    "        self.relu1 = nn.ReLU()\n",
    "        self.fc2 = nn.Linear(hidden_size1, hidden_size2)\n",
    "        self.relu2 = nn.ReLU()\n",
    "        self.dropout = nn.Dropout(drop)\n",
    "        self.fc3 = nn.Linear(hidden_size2, 1)\n",
    "\n",
    "    def forward(self, x):\n",
    "        x = self.relu1(self.fc1(x))\n",
    "        x = self.relu2(self.fc2(x))\n",
    "        x = self.fc3(x)\n",
    "        return x\n",
    "    \n",
    "#------------------Linear Regression Model--------------------#\n",
    "class LinearRegressionModel(nn.Module):\n",
    "    def __init__(self, input_size):\n",
    "        super(LinearRegressionModel, self).__init__()\n",
    "        self.linear = nn.Linear(input_size, 1)\n",
    "\n",
    "    def forward(self, x):\n",
    "        return self.linear(x)"
   ]
  },
  {
   "cell_type": "markdown",
   "id": "71606c31",
   "metadata": {},
   "source": [
    "Instantiate the models"
   ]
  },
  {
   "cell_type": "code",
   "execution_count": 9,
   "id": "b20e41ef",
   "metadata": {},
   "outputs": [],
   "source": [
    "# Deep\n",
    "input_size = X_train.shape[1]\n",
    "hidden_size1 = 64\n",
    "hidden_size2 = 32\n",
    "drop = 0.1\n",
    "deep_model = DeepRegressionModel(input_size, hidden_size1, hidden_size2,drop)\n",
    "\n",
    "#Linear \n",
    "input_size = X_train.shape[1]\n",
    "linear_model = LinearRegressionModel(input_size)"
   ]
  },
  {
   "cell_type": "code",
   "execution_count": 10,
   "id": "45fb4cea",
   "metadata": {},
   "outputs": [],
   "source": [
    "# Select the model\n",
    "model = linear_model"
   ]
  },
  {
   "cell_type": "code",
   "execution_count": 11,
   "id": "0a3cc893",
   "metadata": {},
   "outputs": [],
   "source": [
    "\n",
    "criterion = nn.MSELoss()\n",
    "optimizer = optim.Adam(model.parameters(), lr=0.001) #can select any model"
   ]
  },
  {
   "cell_type": "markdown",
   "id": "aa0e7ab9",
   "metadata": {},
   "source": [
    "### Train"
   ]
  },
  {
   "cell_type": "code",
   "execution_count": 12,
   "id": "dd16d206",
   "metadata": {},
   "outputs": [
    {
     "name": "stdout",
     "output_type": "stream",
     "text": [
      "Epoch [1000/10000], Loss: 0.0290\n",
      "Epoch [2000/10000], Loss: 0.0283\n",
      "Epoch [3000/10000], Loss: 0.0282\n",
      "Epoch [4000/10000], Loss: 0.0280\n",
      "Epoch [5000/10000], Loss: 0.0279\n",
      "Epoch [6000/10000], Loss: 0.0278\n",
      "Epoch [7000/10000], Loss: 0.0277\n",
      "Epoch [8000/10000], Loss: 0.0277\n",
      "Epoch [9000/10000], Loss: 0.0277\n",
      "Epoch [10000/10000], Loss: 0.0277\n"
     ]
    }
   ],
   "source": [
    "num_epochs = 10000\n",
    "\n",
    "for epoch in range(num_epochs):\n",
    "    model.train()\n",
    "    optimizer.zero_grad()\n",
    "    outputs = model(X_train_tensor)\n",
    "    loss = criterion(outputs, y_train_tensor)\n",
    "    loss.backward()\n",
    "    optimizer.step()\n",
    "\n",
    "    if (epoch + 1) % 1000 == 0:\n",
    "        print(f'Epoch [{epoch+1}/{num_epochs}], Loss: {loss.item():.4f}')"
   ]
  },
  {
   "cell_type": "code",
   "execution_count": 13,
   "id": "9c321314",
   "metadata": {},
   "outputs": [
    {
     "name": "stdout",
     "output_type": "stream",
     "text": [
      "Mean Squared Error: 2.1708645820617676\n",
      "R-squared: 0.2013219015452523\n"
     ]
    }
   ],
   "source": [
    "#Evaluation\n",
    "model.eval()\n",
    "with torch.no_grad():\n",
    "    y_pred_tensor = model(X_test_tensor)\n",
    "    y_pred = scaler_y.inverse_transform(y_pred_tensor.numpy())\n",
    "    y_true = scaler_y.inverse_transform(y_test_tensor.numpy())\n",
    "\n",
    "mse = mean_squared_error(y_true, y_pred)\n",
    "r2 = r2_score(y_true, y_pred)\n",
    "\n",
    "print(f'Mean Squared Error: {mse}')\n",
    "print(f'R-squared: {r2}')"
   ]
  },
  {
   "cell_type": "code",
   "execution_count": 14,
   "id": "cab1e6fe",
   "metadata": {},
   "outputs": [],
   "source": [
    "torch.save(model.state_dict(), 'model_weights.pth')"
   ]
  },
  {
   "cell_type": "code",
   "execution_count": null,
   "id": "a0a57027",
   "metadata": {},
   "outputs": [],
   "source": []
  }
 ],
 "metadata": {
  "kernelspec": {
   "display_name": "Python 3 (ipykernel)",
   "language": "python",
   "name": "python3"
  },
  "language_info": {
   "codemirror_mode": {
    "name": "ipython",
    "version": 3
   },
   "file_extension": ".py",
   "mimetype": "text/x-python",
   "name": "python",
   "nbconvert_exporter": "python",
   "pygments_lexer": "ipython3",
   "version": "3.10.11"
  }
 },
 "nbformat": 4,
 "nbformat_minor": 5
}
