{
 "cells": [
  {
   "cell_type": "markdown",
   "id": "8cb4d8e8",
   "metadata": {},
   "source": [
    "# Inference on Mohs Hardness"
   ]
  },
  {
   "cell_type": "code",
   "execution_count": 1,
   "id": "d402ac35",
   "metadata": {},
   "outputs": [],
   "source": [
    "import torch\n",
    "import torch.nn as nn\n",
    "import pandas as pd\n",
    "from sklearn.preprocessing import MinMaxScaler"
   ]
  },
  {
   "cell_type": "code",
   "execution_count": 2,
   "id": "e8ff9c73",
   "metadata": {},
   "outputs": [],
   "source": [
    "#-------------Model------------#\n",
    "class LinearRegressionModel(nn.Module):\n",
    "    def __init__(self, input_size):\n",
    "        super(LinearRegressionModel, self).__init__()\n",
    "        self.linear = nn.Linear(input_size, 1)\n",
    "\n",
    "    def forward(self, x):\n",
    "        return self.linear(x)"
   ]
  },
  {
   "cell_type": "code",
   "execution_count": 3,
   "id": "5a78ec1c",
   "metadata": {},
   "outputs": [],
   "source": [
    "input_size = 6\n",
    "linear_model = LinearRegressionModel(input_size)"
   ]
  },
  {
   "cell_type": "code",
   "execution_count": 4,
   "id": "1119efc5",
   "metadata": {},
   "outputs": [],
   "source": [
    "model = LinearRegressionModel(input_size)"
   ]
  },
  {
   "cell_type": "code",
   "execution_count": 5,
   "id": "d5810700",
   "metadata": {},
   "outputs": [],
   "source": [
    "runner = model.load_state_dict(torch.load('weights/model_weights.pth'))"
   ]
  },
  {
   "cell_type": "code",
   "execution_count": 6,
   "id": "b5e19909",
   "metadata": {},
   "outputs": [],
   "source": [
    "test_df = pd.read_csv('Data/test.csv')"
   ]
  },
  {
   "cell_type": "code",
   "execution_count": 7,
   "id": "09f59a16",
   "metadata": {},
   "outputs": [],
   "source": [
    "X_test = test_df[['allelectrons_Average', 'density_Average', 'val_e_Average',\n",
    "                  'atomicweight_Average', 'ionenergy_Average', 'el_neg_chi_Average']]"
   ]
  },
  {
   "cell_type": "code",
   "execution_count": 8,
   "id": "b6e4c81a",
   "metadata": {},
   "outputs": [],
   "source": [
    "scaler = MinMaxScaler()\n",
    "X_test_scaled = scaler.fit_transform(X_test)"
   ]
  },
  {
   "cell_type": "code",
   "execution_count": 9,
   "id": "9c337f53",
   "metadata": {},
   "outputs": [],
   "source": [
    "X_test_tensor = torch.tensor(X_test_scaled, dtype=torch.float32)"
   ]
  },
  {
   "cell_type": "code",
   "execution_count": 11,
   "id": "798b57c9",
   "metadata": {},
   "outputs": [],
   "source": [
    "with torch.no_grad():\n",
    "    y_pred_tensor = model(X_test_tensor)\n",
    "    y_pred = y_pred_tensor.numpy()"
   ]
  },
  {
   "cell_type": "code",
   "execution_count": 13,
   "id": "2a08ca59",
   "metadata": {},
   "outputs": [],
   "source": [
    "predictions_df = pd.DataFrame({'Predicted Hardness': y_pred.flatten()})\n",
    "result_df = pd.concat([test_df, predictions_df], axis=1)"
   ]
  },
  {
   "cell_type": "code",
   "execution_count": 19,
   "id": "3b917f33",
   "metadata": {},
   "outputs": [
    {
     "data": {
      "text/plain": [
       "0       0.315605\n",
       "1       0.443412\n",
       "2       0.459788\n",
       "3       0.463836\n",
       "4       0.407017\n",
       "          ...   \n",
       "6934    0.484667\n",
       "6935    0.353972\n",
       "6936    0.508379\n",
       "6937    0.443142\n",
       "6938    0.096548\n",
       "Name: Predicted Hardness, Length: 6939, dtype: float32"
      ]
     },
     "execution_count": 19,
     "metadata": {},
     "output_type": "execute_result"
    }
   ],
   "source": [
    "result_df['Predicted Hardness']"
   ]
  },
  {
   "cell_type": "code",
   "execution_count": null,
   "id": "7807567c",
   "metadata": {},
   "outputs": [],
   "source": []
  }
 ],
 "metadata": {
  "kernelspec": {
   "display_name": "Python 3 (ipykernel)",
   "language": "python",
   "name": "python3"
  },
  "language_info": {
   "codemirror_mode": {
    "name": "ipython",
    "version": 3
   },
   "file_extension": ".py",
   "mimetype": "text/x-python",
   "name": "python",
   "nbconvert_exporter": "python",
   "pygments_lexer": "ipython3",
   "version": "3.10.11"
  }
 },
 "nbformat": 4,
 "nbformat_minor": 5
}
